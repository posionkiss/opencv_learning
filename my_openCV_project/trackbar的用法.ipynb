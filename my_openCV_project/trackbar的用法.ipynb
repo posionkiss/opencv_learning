{
 "cells": [
  {
   "cell_type": "code",
   "execution_count": null,
   "id": "a0e132fd",
   "metadata": {},
   "outputs": [],
   "source": [
    "#调色板\n",
    "import cv2\n",
    "import numpy as np\n",
    "\n",
    "cv2.namedWindow('window',cv2.WINDOW_NORMAL)\n",
    "cv2.resizeWindow('window',640,480)\n",
    "\n",
    "def callback(value):\n",
    "    #用cv2.getTrackbaros获取trackbar上的值\n",
    "    r=cv2.getTrackbarPos('R','window')\n",
    "    g=cv2.getTrackbarPos('G','window')\n",
    "    b=cv2.getTrackbarPos('B','window')\n",
    "    img[:]=[b,g,r]\n",
    "    i=\"(R,G,B)=(\"+str(r)+','+str(g)+','+str(b)+')'\n",
    "    cv2.putText(img,i,(0,100),cv2.FONT_HERSHEY_DUPLEX,1,(255-b,255-g,255-r),2)\n",
    "    cv2.imshow('window',img)\n",
    "\n",
    "#用cv2.creatTrackbar创建trackbar，参数分别为名称、窗口名、默认值、最大值和值变化时触发的函数\n",
    "cv2.createTrackbar('R','window',0,255,callback)\n",
    "cv2.createTrackbar('G','window',0,255,callback)\n",
    "cv2.createTrackbar('B','window',0,255,callback)\n",
    "\n",
    "img=np.zeros((480,640,3),np.uint8)\n",
    "i=\"(R,G,B)=(0,0,0)\"\n",
    "cv2.putText(img,i,(0,30),cv2.FONT_HERSHEY_DUPLEX,1,(255,255,255),2)\n",
    "cv2.imshow('window',img)\n",
    "\n",
    "while True:\n",
    "    if cv2.waitKey(0)==ord('q'):\n",
    "        break\n",
    "        \n",
    "cv2.destroyAllWindows()\n",
    "    "
   ]
  },
  {
   "cell_type": "code",
   "execution_count": null,
   "id": "f51c38fc",
   "metadata": {},
   "outputs": [],
   "source": [
    "import cv2"
   ]
  },
  {
   "cell_type": "code",
   "execution_count": null,
   "id": "50a782f5",
   "metadata": {},
   "outputs": [],
   "source": []
  }
 ],
 "metadata": {
  "kernelspec": {
   "display_name": "Python 3 (ipykernel)",
   "language": "python",
   "name": "python3"
  },
  "language_info": {
   "codemirror_mode": {
    "name": "ipython",
    "version": 3
   },
   "file_extension": ".py",
   "mimetype": "text/x-python",
   "name": "python",
   "nbconvert_exporter": "python",
   "pygments_lexer": "ipython3",
   "version": "3.9.13"
  }
 },
 "nbformat": 4,
 "nbformat_minor": 5
}
