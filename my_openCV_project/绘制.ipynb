{
 "cells": [
  {
   "cell_type": "markdown",
   "id": "8395193e",
   "metadata": {},
   "source": [
    "# 画直线"
   ]
  },
  {
   "cell_type": "code",
   "execution_count": 19,
   "id": "50ceefd7",
   "metadata": {},
   "outputs": [],
   "source": [
    "#用line(img,pt1,pt2,color,thickness,linetype,shift)画直线\n",
    "#参数分别表示目标图像，起始位置，终止位置，颜色，线宽，线型，坐标缩放比例\n",
    "\n",
    "import cv2\n",
    "import numpy as np\n",
    "img=np.zeros((800,800,3),np.uint8)\n",
    "#参数linetype只能取2的整数幂，0，2，4，8.....或者cv2.LINE_AA,cv2.LINE_8,cv2.LINE_4\n",
    "cv2.line(img,(0,0),(400,400),(255,255,255),5,cv2.LINE_8)\n",
    "cv2.imshow('window',img)\n",
    "if cv2.waitKey(0)==ord('q'):\n",
    "    cv2.destroyAllWindows()"
   ]
  },
  {
   "cell_type": "markdown",
   "id": "7ba2e347",
   "metadata": {},
   "source": [
    "# 画矩形"
   ]
  },
  {
   "cell_type": "code",
   "execution_count": 21,
   "id": "765933e2",
   "metadata": {},
   "outputs": [],
   "source": [
    "#用rectangle()绘制矩形,参数和line一样\n",
    "\n",
    "import cv2\n",
    "import numpy as np\n",
    "img=np.zeros((800,800,3),np.uint8)\n",
    "\n",
    "cv2.rectangle(img,(100,200),(400,400),(255,255,255),5,cv2.LINE_8)\n",
    "cv2.imshow('window',img)\n",
    "if cv2.waitKey(0)==ord('q'):\n",
    "    cv2.destroyAllWindows()"
   ]
  },
  {
   "cell_type": "markdown",
   "id": "a0ef9564",
   "metadata": {},
   "source": [
    "# 画圆"
   ]
  },
  {
   "cell_type": "code",
   "execution_count": 24,
   "id": "5cdeae02",
   "metadata": {},
   "outputs": [],
   "source": [
    "#用circle(img,center,radius,color[thickness[linetype[shift]]])画圆\n",
    "#center和radius表示圆心坐标和半径\n",
    "\n",
    "import cv2\n",
    "import numpy as np\n",
    "img=np.zeros((800,800,3),np.uint8)\n",
    "\n",
    "cv2.circle(img,(400,400),200,(255,255,255),3,cv2.LINE_AA)\n",
    "cv2.imshow('window',img)\n",
    "if cv2.waitKey(0)==ord('q'):\n",
    "    cv2.destroyAllWindows()"
   ]
  },
  {
   "cell_type": "markdown",
   "id": "4727e94f",
   "metadata": {},
   "source": [
    "# 画椭圆"
   ]
  },
  {
   "cell_type": "code",
   "execution_count": 34,
   "id": "81affd93",
   "metadata": {},
   "outputs": [],
   "source": [
    "#用ellipse(img,center,axes,)画椭圆\n",
    "#img,圆心坐标，两个半轴的长度，相对水平的角度，开始角度，结束角度，颜色，[thickness[linetype[shift]]]\n",
    "import cv2\n",
    "import numpy as np\n",
    "\n",
    "img=np.zeros((800,800,3),np.uint8)\n",
    "cv2.ellipse(img,(400,400),(100,200),30,0,60,(255,255,255))\n",
    "cv2.imshow('window',img)\n",
    "if cv2.waitKey(0)==ord('q'):\n",
    "    cv2.destroyAllWindows()\n"
   ]
  },
  {
   "cell_type": "markdown",
   "id": "e4890e19",
   "metadata": {},
   "source": [
    "# 画多边形以及填充"
   ]
  },
  {
   "cell_type": "code",
   "execution_count": 46,
   "id": "c2d750f9",
   "metadata": {},
   "outputs": [
    {
     "ename": "error",
     "evalue": "OpenCV(4.6.0) D:/a/opencv-python/opencv-python/opencv/modules/highgui/src/precomp.hpp:155: error: (-215:Assertion failed) src_depth != CV_16F && src_depth != CV_32S in function 'convertToShow'\n",
     "output_type": "error",
     "traceback": [
      "\u001b[1;31m---------------------------------------------------------------------------\u001b[0m",
      "\u001b[1;31merror\u001b[0m                                     Traceback (most recent call last)",
      "Input \u001b[1;32mIn [46]\u001b[0m, in \u001b[0;36m<cell line: 10>\u001b[1;34m()\u001b[0m\n\u001b[0;32m      8\u001b[0m points\u001b[38;5;241m=\u001b[39mnp\u001b[38;5;241m.\u001b[39marray([(\u001b[38;5;241m100\u001b[39m,\u001b[38;5;241m100\u001b[39m),(\u001b[38;5;241m200\u001b[39m,\u001b[38;5;241m300\u001b[39m),(\u001b[38;5;241m500\u001b[39m,\u001b[38;5;241m600\u001b[39m),(\u001b[38;5;241m750\u001b[39m,\u001b[38;5;241m100\u001b[39m)],np\u001b[38;5;241m.\u001b[39mint32)\n\u001b[0;32m      9\u001b[0m cv2\u001b[38;5;241m.\u001b[39mpolylines(img,[points],\u001b[38;5;28;01mTrue\u001b[39;00m,(\u001b[38;5;241m255\u001b[39m,\u001b[38;5;241m255\u001b[39m,\u001b[38;5;241m255\u001b[39m),\u001b[38;5;241m3\u001b[39m)\n\u001b[1;32m---> 10\u001b[0m \u001b[43mcv2\u001b[49m\u001b[38;5;241;43m.\u001b[39;49m\u001b[43mimshow\u001b[49m\u001b[43m(\u001b[49m\u001b[38;5;124;43m'\u001b[39;49m\u001b[38;5;124;43mwindow\u001b[39;49m\u001b[38;5;124;43m'\u001b[39;49m\u001b[43m,\u001b[49m\u001b[43mimg\u001b[49m\u001b[43m)\u001b[49m\n\u001b[0;32m     11\u001b[0m \u001b[38;5;28;01mif\u001b[39;00m cv2\u001b[38;5;241m.\u001b[39mwaitKey(\u001b[38;5;241m0\u001b[39m)\u001b[38;5;241m==\u001b[39m\u001b[38;5;28mord\u001b[39m(\u001b[38;5;124m'\u001b[39m\u001b[38;5;124mq\u001b[39m\u001b[38;5;124m'\u001b[39m):\n\u001b[0;32m     12\u001b[0m     cv2\u001b[38;5;241m.\u001b[39mdestroyAllWindows()\n",
      "\u001b[1;31merror\u001b[0m: OpenCV(4.6.0) D:/a/opencv-python/opencv-python/opencv/modules/highgui/src/precomp.hpp:155: error: (-215:Assertion failed) src_depth != CV_16F && src_depth != CV_32S in function 'convertToShow'\n"
     ]
    }
   ],
   "source": [
    "#用cv2.polylines(img,pts,isclose,color,[thickness[linetype[shift]]])绘制多边形\n",
    "#pts是多边形的点集，int32位以上\n",
    "\n",
    "import cv2\n",
    "import numpy as np\n",
    "\n",
    "img=np.zeros((800,800,3),np.uint8)\n",
    "points=np.array([(100,100),(200,300),(500,600),(750,100)],np.int32)\n",
    "cv2.polylines(img,[points],True,(255,255,255),3)\n",
    "cv2.imshow('window',img)\n",
    "if cv2.waitKey(0)==ord('q'):\n",
    "    cv2.destroyAllWindows()"
   ]
  },
  {
   "cell_type": "code",
   "execution_count": 3,
   "id": "441043a9",
   "metadata": {},
   "outputs": [],
   "source": [
    "#用cv2.fillPoly填充多边形，参数和cv2.polylines一样,除了没有isclose和thickness\n",
    "\n",
    "import cv2\n",
    "import numpy as np\n",
    "\n",
    "img=np.zeros((800,800,3),np.uint8)\n",
    "points=np.array([(100,100),(200,300),(500,600),(750,100)],np.int32)\n",
    "cv2.fillPoly(img,[points],(255,255,255))\n",
    "cv2.imshow('window',img)\n",
    "if cv2.waitKey(0)==ord('q'):\n",
    "    cv2.destroyAllWindows()"
   ]
  },
  {
   "cell_type": "markdown",
   "id": "2ec75843",
   "metadata": {},
   "source": [
    "# 绘制文本"
   ]
  },
  {
   "cell_type": "code",
   "execution_count": 9,
   "id": "5a254c52",
   "metadata": {},
   "outputs": [],
   "source": [
    "#用cv2.putText(img,text,pos,fontFace,fontScale,color[,thickness[,lineType[,bottomLeftOrigin]]])绘制文本\n",
    "#fontFace是字体类型，fontScale是字体大小\n",
    "\n",
    "import cv2\n",
    "import numpy as np\n",
    "\n",
    "img=np.zeros((800,800,3),np.uint8)\n",
    "cv2.putText(img,'123123',(400,400),cv2.FONT_HERSHEY_COMPLEX,2,(255,255,255))\n",
    "cv2.imshow('window',img)\n",
    "if cv2.waitKey(0)==ord('q'):\n",
    "    cv2.destroyAllWindows()"
   ]
  },
  {
   "cell_type": "code",
   "execution_count": null,
   "id": "7815a7da",
   "metadata": {},
   "outputs": [],
   "source": [
    "#绘制中文"
   ]
  }
 ],
 "metadata": {
  "kernelspec": {
   "display_name": "Python 3 (ipykernel)",
   "language": "python",
   "name": "python3"
  },
  "language_info": {
   "codemirror_mode": {
    "name": "ipython",
    "version": 3
   },
   "file_extension": ".py",
   "mimetype": "text/x-python",
   "name": "python",
   "nbconvert_exporter": "python",
   "pygments_lexer": "ipython3",
   "version": "3.10.5"
  }
 },
 "nbformat": 4,
 "nbformat_minor": 5
}
