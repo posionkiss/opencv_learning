{
 "cells": [
  {
   "cell_type": "code",
   "execution_count": 1,
   "id": "c9a632e8",
   "metadata": {
    "scrolled": true
   },
   "outputs": [],
   "source": [
    "import cv2\n",
    "import numpy as np\n",
    "\n",
    "cv2.namedWindow('mouse event test',cv2.WINDOW_NORMAL)\n",
    "cv2.resizeWindow('mouse event test',900,600)\n",
    "\n",
    "Key=None\n",
    "#空白黑色图片\n",
    "blank=np.zeros((900,600,3),dtype='uint8')\n",
    "\n",
    "def callback(event,x,y,flag,data):\n",
    "    if event==cv2.EVENT_LBUTTONDOWN:\n",
    "        cv2.putText(blank,data,(x,y),cv2.FONT_HERSHEY_COMPLEX_SMALL,2.5,(153,255,255),2)\n",
    "        cv2.imshow('mouse event test',blank)\n",
    "        cv2.setMouseCallback('mouse event test',none_callback,'')\n",
    "        \n",
    "def none_callback(event,x,y,flag,data):\n",
    "    None\n",
    "\n",
    "#cv2.setMouseCallback('mouse event test',callback,chr(Key))\n",
    "\n",
    "#cv2.imshow('mouse event test',blank)\n",
    "\n",
    "#Key=cv2.waitKey(0)\n",
    "#if Key==ord('q'):\n",
    "#    cv2.destroyAllWindows()\n",
    "cv2.imshow('mouse event test',blank)\n",
    "while True:\n",
    "    #cv2.imshow('mouse event test',blank)\n",
    "    Key=cv2.waitKey(0)\n",
    "    cv2.setMouseCallback('mouse event test',callback,chr(Key)) #最后一个参数是传给自定义callback函数的参数\n",
    "    if Key==ord('q'):\n",
    "        break\n",
    "        \n",
    "cv2.destroyAllWindows()\n"
   ]
  },
  {
   "cell_type": "code",
   "execution_count": null,
   "id": "2eb4edef",
   "metadata": {},
   "outputs": [],
   "source": []
  },
  {
   "cell_type": "code",
   "execution_count": null,
   "id": "46dac4e1",
   "metadata": {},
   "outputs": [],
   "source": []
  }
 ],
 "metadata": {
  "kernelspec": {
   "display_name": "py_opencv",
   "language": "python",
   "name": "opencv"
  },
  "language_info": {
   "codemirror_mode": {
    "name": "ipython",
    "version": 3
   },
   "file_extension": ".py",
   "mimetype": "text/x-python",
   "name": "python",
   "nbconvert_exporter": "python",
   "pygments_lexer": "ipython3",
   "version": "3.9.13"
  }
 },
 "nbformat": 4,
 "nbformat_minor": 5
}
