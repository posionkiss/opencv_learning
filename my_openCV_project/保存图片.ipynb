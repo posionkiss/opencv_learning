{
 "cells": [
  {
   "cell_type": "code",
   "execution_count": 1,
   "id": "c4124175",
   "metadata": {},
   "outputs": [],
   "source": [
    "import cv2"
   ]
  },
  {
   "cell_type": "code",
   "execution_count": 2,
   "id": "0918bc6e",
   "metadata": {},
   "outputs": [],
   "source": [
    "from utils import cv_show\n",
    "#以合适的大小展示图片\n",
    "cv2.namedWindow('wall pic16',cv2.WINDOW_NORMAL)\n",
    "wall_pic16=cv2.imread('../material/used/wall pic16.png')\n",
    "wall_pic16_shape=wall_pic16.shape\n",
    "wall_pic16_shape\n",
    "cv2.resizeWindow('wall pic16',wall_pic16_shape[0],wall_pic16_shape[1])\n",
    "cv2.imshow('wall pic16',wall_pic16)\n",
    "key=cv2.waitKey(0)\n",
    "if key==ord('q'):\n",
    "    cv2.destroyAllWindows()\n",
    "##cv_show('wall pic16',wall_pic16,wall_pic16_shape[0],wall_pic16_shape[1])"
   ]
  },
  {
   "cell_type": "code",
   "execution_count": 4,
   "id": "894f8c0d",
   "metadata": {},
   "outputs": [],
   "source": [
    "#直接关闭或保存图片窗口为‘wall pic16(1saved)’\n",
    "\n",
    "#调整窗口大小和读图\n",
    "cv2.namedWindow('wall pic16',cv2.WINDOW_NORMAL)\n",
    "wall_pic16=cv2.imread('../material/used/wall pic16.png')\n",
    "wall_pic16_shape=wall_pic16.shape\n",
    "wall_pic16_shape\n",
    "cv2.resizeWindow('wall pic16',wall_pic16_shape[0],wall_pic16_shape[1])\n",
    "\n",
    "#展示图片\n",
    "cv2.imshow('wall pic16',wall_pic16)\n",
    "\n",
    "while True:\n",
    "    key=cv2.waitKey(0)\n",
    "    if key==ord('q'):\n",
    "        break\n",
    "    if key==ord('s'):\n",
    "        #用cv2.imwrite保存\n",
    "        cv2.imwrite('../material/saved/wall pic16(2saved).png',wall_pic16)\n",
    "        break\n",
    "cv2.destroyAllWindows()"
   ]
  },
  {
   "cell_type": "code",
   "execution_count": null,
   "id": "6b290f8f",
   "metadata": {},
   "outputs": [],
   "source": []
  },
  {
   "cell_type": "code",
   "execution_count": null,
   "id": "eb20cd69",
   "metadata": {},
   "outputs": [],
   "source": []
  }
 ],
 "metadata": {
  "kernelspec": {
   "display_name": "Python 3 (ipykernel)",
   "language": "python",
   "name": "python3"
  },
  "language_info": {
   "codemirror_mode": {
    "name": "ipython",
    "version": 3
   },
   "file_extension": ".py",
   "mimetype": "text/x-python",
   "name": "python",
   "nbconvert_exporter": "python",
   "pygments_lexer": "ipython3",
   "version": "3.9.12"
  }
 },
 "nbformat": 4,
 "nbformat_minor": 5
}
