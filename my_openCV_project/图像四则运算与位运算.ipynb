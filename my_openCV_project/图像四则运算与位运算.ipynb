{
 "cells": [
  {
   "cell_type": "code",
   "execution_count": 1,
   "id": "81d46b5c",
   "metadata": {},
   "outputs": [],
   "source": [
    "import cv2\n",
    "import numpy as np"
   ]
  },
  {
   "cell_type": "code",
   "execution_count": 2,
   "id": "83544a8c",
   "metadata": {},
   "outputs": [],
   "source": [
    "sz=cv2.imread('../material/used/images/shenzhen_gray.bmp')\n",
    "sz_mask=cv2.imread('../material/used/images/shenzhen_mask.bmp')"
   ]
  },
  {
   "cell_type": "code",
   "execution_count": 4,
   "id": "d5abeee1",
   "metadata": {},
   "outputs": [],
   "source": [
    "cv2.namedWindow('sz',cv2.WINDOW_NORMAL)\n",
    "cv2.resizeWindow('sz',sz.shape[1],sz.shape[0])\n",
    "cv2.imshow('sz',sz)\n",
    "cv2.imshow('sz_mask',sz_mask)\n",
    "while cv2.waitKey(0)!=ord('q'):\n",
    "    None\n",
    "cv2.destroyAllWindows()"
   ]
  },
  {
   "cell_type": "code",
   "execution_count": 4,
   "id": "60d829ee",
   "metadata": {},
   "outputs": [],
   "source": [
    "pic3=cv2.imread('../material/used/pic3.jpg')\n",
    "pic4=cv2.imread('../material/used/pic3.png')"
   ]
  },
  {
   "cell_type": "code",
   "execution_count": 6,
   "id": "96b5c767",
   "metadata": {},
   "outputs": [],
   "source": [
    "'''加法运算 cv2.add()\n",
    "参数填两个要相加的图片，类型为mat，在python中为numpy.ndarray\n",
    "两个图片的大小、维度、通道数需要一样'''\n",
    "sz_add=cv2.add(sz,sz_mask)"
   ]
  },
  {
   "cell_type": "code",
   "execution_count": 8,
   "id": "6d317aa2",
   "metadata": {},
   "outputs": [],
   "source": [
    "cv2.namedWindow('sz_add',cv2.WINDOW_NORMAL)\n",
    "cv2.resizeWindow('sz_add',sz_add.shape[1],sz_add.shape[0])\n",
    "cv2.imshow('sz_add',sz_add)\n",
    "while cv2.waitKey(0)!=ord('q'):\n",
    "    None\n",
    "cv2.destroyAllWindows()\n",
    "#根据cv2.add()的规则，如果相加超过了255，一律取255"
   ]
  },
  {
   "cell_type": "code",
   "execution_count": 7,
   "id": "d1086420",
   "metadata": {},
   "outputs": [],
   "source": [
    "#图片还可以和单个元素进行运算,超出255的数字，将会进行 %255 的运算\n",
    "sz_mod=sz+100\n",
    "cv2.namedWindow('sz_mod',cv2.WINDOW_NORMAL)\n",
    "cv2.resizeWindow('sz_mod',sz_mod.shape[1],sz_mod.shape[0])\n",
    "cv2.imshow('sz_mod',sz_mod)\n",
    "cv2.imshow('sz',sz)\n",
    "while cv2.waitKey(0)!=ord('q'):\n",
    "    None\n",
    "cv2.destroyAllWindows()"
   ]
  },
  {
   "cell_type": "code",
   "execution_count": 3,
   "id": "8567a0c5",
   "metadata": {},
   "outputs": [],
   "source": [
    "#减法 cv2.substract()\n",
    "sz_sub=cv2.subtract(sz,sz_mask)"
   ]
  },
  {
   "cell_type": "code",
   "execution_count": 4,
   "id": "38c1fe11",
   "metadata": {},
   "outputs": [],
   "source": [
    "cv2.namedWindow('sz_sub',cv2.WINDOW_NORMAL)\n",
    "cv2.resizeWindow('sz_sub',sz_sub.shape[1],sz_sub.shape[0])\n",
    "cv2.imshow('sz_sub',sz_sub)\n",
    "while cv2.waitKey(0)!=ord('q'):\n",
    "    None\n",
    "cv2.destroyAllWindows()\n",
    "#根据cv2.substract()的规则，如果相减低于0，一律取0"
   ]
  },
  {
   "cell_type": "code",
   "execution_count": 5,
   "id": "5b87ad82",
   "metadata": {},
   "outputs": [],
   "source": [
    "#同理还有相乘 cv2.multiply()\n",
    "sz_mul=cv2.multiply(sz,sz_mask)"
   ]
  },
  {
   "cell_type": "code",
   "execution_count": 7,
   "id": "222525e7",
   "metadata": {},
   "outputs": [],
   "source": [
    "cv2.namedWindow('sz_mul',cv2.WINDOW_NORMAL)\n",
    "cv2.resizeWindow('sz_mul',sz_mul.shape[1],sz_mul.shape[0])\n",
    "cv2.imshow('sz_mul',sz_mul)\n",
    "while cv2.waitKey(0)!=ord('q'):\n",
    "    None\n",
    "cv2.destroyAllWindows()\n",
    "#大于255取255"
   ]
  },
  {
   "cell_type": "code",
   "execution_count": 16,
   "id": "d3b34a0b",
   "metadata": {},
   "outputs": [],
   "source": [
    "#相除cv2.divide()和乘同理"
   ]
  },
  {
   "cell_type": "code",
   "execution_count": null,
   "id": "9ca775ea",
   "metadata": {},
   "outputs": [],
   "source": [
    "#图片运算，主要用在两张图叠加在一起"
   ]
  },
  {
   "cell_type": "code",
   "execution_count": 7,
   "id": "421e6284",
   "metadata": {},
   "outputs": [],
   "source": [
    "#可以通过ndarray的切片方式取出完全一样的形状\n",
    "#假设pic1更大，则从pic1中切出pic2的形状\n",
    "pic1_cut=pic1[0:pic2.shape[0],0:pic2.shape[1]]"
   ]
  },
  {
   "cell_type": "code",
   "execution_count": 9,
   "id": "c53d91eb",
   "metadata": {},
   "outputs": [],
   "source": [
    "'''图像的融合\n",
    "图像融合不是简单的加法，相当于拿图片做了线性运算\n",
    "pic_new=pi1*w1+pic2*w2+bias\n",
    "可以调整融合图片的比重，并根据亮度调整bias'''\n",
    "# cv2.addWeighted(pic1,w1,pic2,w2,bias)\n",
    "\n",
    "#需要将sz和sz_mask剪成相同大小\n",
    "\n",
    "#融合函数可以代替add函数（权重各为1）\n",
    "sz_1=cv2.addWeighted(sz,0.3,sz_mask,0.7,-30)\n",
    "\n",
    "cv2.namedWindow('sz_1',cv2.WINDOW_NORMAL)\n",
    "cv2.resizeWindow('sz_1',sz_1.shape[1],sz_1.shape[0])\n",
    "cv2.imshow('sz_1',sz_1)\n",
    "while cv2.waitKey(0)!=ord('q'):\n",
    "    None\n",
    "cv2.destroyAllWindows()"
   ]
  },
  {
   "cell_type": "code",
   "execution_count": 1,
   "id": "cd1f0173",
   "metadata": {},
   "outputs": [
    {
     "data": {
      "text/plain": [
       "198"
      ]
     },
     "execution_count": 1,
     "metadata": {},
     "output_type": "execute_result"
    }
   ],
   "source": [
    "#位运算——与& 或 非~ 异或^  (转化成二进制的)\n",
    "199&230"
   ]
  },
  {
   "cell_type": "code",
   "execution_count": 3,
   "id": "ea32647d",
   "metadata": {},
   "outputs": [
    {
     "data": {
      "text/plain": [
       "-256"
      ]
     },
     "execution_count": 3,
     "metadata": {},
     "output_type": "execute_result"
    }
   ],
   "source": [
    "~255"
   ]
  },
  {
   "cell_type": "code",
   "execution_count": 2,
   "id": "e86d0935",
   "metadata": {},
   "outputs": [],
   "source": [
    "#非操作  在opencv里相当于用255减去改值\n",
    "sz=cv2.imread('../material/used/images/shenzhen_gray.bmp')\n",
    "sz_mask=cv2.imread('../material/used/images/shenzhen_mask.bmp')\n",
    "sz_not=cv2.bitwise_not(sz)\n",
    "cv2.namedWindow('sz_not',cv2.WINDOW_NORMAL)\n",
    "cv2.resizeWindow('sz_not',sz_not.shape[1],sz_not.shape[0])\n",
    "cv2.imshow('sz_not',np.hstack((sz,sz_not)))\n",
    "while cv2.waitKey(0)!=ord('q'):\n",
    "    None\n",
    "cv2.destroyAllWindows()"
   ]
  },
  {
   "cell_type": "code",
   "execution_count": 7,
   "id": "f3e9184a",
   "metadata": {},
   "outputs": [],
   "source": [
    "#与操作 需要两张图片大小一样   \n",
    "#RGB值会变小一些，两张图片黑色的部分会在结果中保留\n",
    "sz=cv2.imread('../material/used/images/shenzhen_gray.bmp')\n",
    "sz_mask=cv2.imread('../material/used/images/shenzhen_mask.bmp')\n",
    "sz_and=cv2.bitwise_and(sz,sz_mask)\n",
    "cv2.namedWindow('sz_and',cv2.WINDOW_NORMAL)\n",
    "cv2.resizeWindow('sz_and',sz_and.shape[1],sz_and.shape[0])\n",
    "cv2.imshow('sz_and',sz_and)\n",
    "while cv2.waitKey(0)!=ord('q'):\n",
    "    None\n",
    "cv2.destroyAllWindows()"
   ]
  },
  {
   "cell_type": "code",
   "execution_count": 8,
   "id": "e3bd20e2",
   "metadata": {},
   "outputs": [],
   "source": [
    "#或操作  和与相反，RGB会变大，白色更易保留\n",
    "sz=cv2.imread('../material/used/images/shenzhen_gray.bmp')\n",
    "sz_mask=cv2.imread('../material/used/images/shenzhen_mask.bmp')\n",
    "sz_or=cv2.bitwise_or(sz,sz_mask)\n",
    "cv2.namedWindow('sz_or',cv2.WINDOW_NORMAL)\n",
    "cv2.resizeWindow('sz_or',sz_or.shape[1],sz_or.shape[0])\n",
    "cv2.imshow('sz_or',sz_or)\n",
    "while cv2.waitKey(0)!=ord('q'):\n",
    "    None\n",
    "cv2.destroyAllWindows()"
   ]
  },
  {
   "cell_type": "code",
   "execution_count": 9,
   "id": "ab528a8d",
   "metadata": {},
   "outputs": [],
   "source": [
    "sz=cv2.imread('../material/used/images/shenzhen_gray.bmp')\n",
    "sz_mask=cv2.imread('../material/used/images/shenzhen_mask.bmp')\n",
    "sz_xor=cv2.bitwise_xor(sz,sz_mask)\n",
    "cv2.namedWindow('sz_xor',cv2.WINDOW_NORMAL)\n",
    "cv2.resizeWindow('sz_xor',sz_xor.shape[1],sz_xor.shape[0])\n",
    "cv2.imshow('sz_xor',sz_xor)\n",
    "while cv2.waitKey(0)!=ord('q'):\n",
    "    None\n",
    "cv2.destroyAllWindows()"
   ]
  },
  {
   "cell_type": "code",
   "execution_count": null,
   "id": "28edef4e",
   "metadata": {},
   "outputs": [],
   "source": []
  }
 ],
 "metadata": {
  "kernelspec": {
   "display_name": "py_opencv",
   "language": "python",
   "name": "opencv"
  },
  "language_info": {
   "codemirror_mode": {
    "name": "ipython",
    "version": 3
   },
   "file_extension": ".py",
   "mimetype": "text/x-python",
   "name": "python",
   "nbconvert_exporter": "python",
   "pygments_lexer": "ipython3",
   "version": "3.9.13"
  }
 },
 "nbformat": 4,
 "nbformat_minor": 5
}
