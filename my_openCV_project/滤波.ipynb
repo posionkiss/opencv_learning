{
 "cells": [
  {
   "cell_type": "code",
   "execution_count": 1,
   "id": "052f9151",
   "metadata": {},
   "outputs": [],
   "source": [
    "import cv2\n",
    "import numpy as np"
   ]
  },
  {
   "cell_type": "markdown",
   "id": "3b7fd8ca",
   "metadata": {},
   "source": [
    "# 图像卷积"
   ]
  },
  {
   "cell_type": "code",
   "execution_count": 1,
   "id": "fcb2afcc",
   "metadata": {
    "collapsed": true
   },
   "outputs": [
    {
     "data": {
      "text/plain": [
       "'\\n图像卷积就是卷积核在图像上按行滑动遍历像素时不断的相乘(element-wised)求和的过程\\n步长就是卷积核在图像上移动的步幅，为了充分扫描图片，步长一般设为1\\n卷积核的大小和元素值可以按需要设定\\n\\n卷积之后图片的长宽会变小，如果要保持图片大小不变，我们需要在图片周围填充0，padding指的就是填充的0的圈数\\n\\n图片卷积中，卷积核一般为奇数，比如3*3，5*5，7*7，是出于以下两个方面的考虑：\\n1、根据padding的计算公式，如果要保持图片大小不变，采用偶数卷积核的话，比如4*4，将会出现填充1.5圈零的情况；\\n2、奇数维度的过滤器有中心，便于指出过滤器的位置，即OpenCV卷积中的锚点\\n\\n'"
      ]
     },
     "execution_count": 1,
     "metadata": {},
     "output_type": "execute_result"
    }
   ],
   "source": [
    "'''\n",
    "图像卷积就是卷积核在图像上按行滑动遍历像素时不断的相乘(element-wised)求和的过程\n",
    "步长就是卷积核在图像上移动的步幅，为了充分扫描图片，步长一般设为1\n",
    "卷积核的大小和元素值可以按需要设定\n",
    "\n",
    "卷积之后图片的长宽会变小，如果要保持图片大小不变，我们需要在图片周围填充0，padding指的就是填充的0的圈数\n",
    "\n",
    "图片卷积中，卷积核一般为奇数，比如3*3，5*5，7*7，是出于以下两个方面的考虑：\n",
    "1、根据padding的计算公式，如果要保持图片大小不变，采用偶数卷积核的话，比如4*4，将会出现填充1.5圈零的情况；\n",
    "2、奇数维度的过滤器有中心，便于指出过滤器的位置，即OpenCV卷积中的锚点\n",
    "\n",
    "'''\n"
   ]
  },
  {
   "cell_type": "code",
   "execution_count": 2,
   "id": "718a8cb7",
   "metadata": {
    "collapsed": true
   },
   "outputs": [
    {
     "data": {
      "text/plain": [
       "'\\ncv2.fiIter2D(src,ddepth,kernel[,dst[,anchor[,bias[,borderType]]]])\\n\\n  ddepth是卷积之后图片的位深，即卷积之后图片的数据类型，一般设为-1，表示和原图类型一致；\\n  kernel是卷积核大小，用元组或者ndarray表示，要求数据类型必须是float型；\\n  anchor是锚点，即卷积核的中心点，是可选参数，默认是(-1,-1)；\\n  bias  是可选参数，表示卷积之后额外加的一个值，相当于线性方程中的偏差，默认是0；\\n  borderType 是边界类型，一般不设；\\n  \\n'"
      ]
     },
     "execution_count": 2,
     "metadata": {},
     "output_type": "execute_result"
    }
   ],
   "source": [
    "'''\n",
    "cv2.filter2D(src,ddepth,kernel[,dst[,anchor[,bias[,borderType]]]])\n",
    "\n",
    "  ddepth是卷积之后图片的位深，即卷积之后图片的数据类型，一般设为-1，表示和原图类型一致；\n",
    "  kernel是卷积核大小，用元组或者ndarray表示，要求数据类型必须是float型；\n",
    "  anchor是锚点，即卷积核的中心点，是可选参数，默认是(-1,-1)；\n",
    "  bias  是可选参数，表示卷积之后额外加的一个值，相当于线性方程中的偏差，默认是0；\n",
    "  borderType 是边界类型，一般不设；\n",
    "  \n",
    "'''"
   ]
  },
  {
   "cell_type": "code",
   "execution_count": 5,
   "id": "c1086d4b",
   "metadata": {},
   "outputs": [],
   "source": [
    "pic=cv2.imread('../material/used/pic4.png')"
   ]
  },
  {
   "cell_type": "code",
   "execution_count": 12,
   "id": "df1ec959",
   "metadata": {},
   "outputs": [],
   "source": [
    "pic=cv2.imread('../material/used/pic4.png')\n",
    "#不同的卷积核可以对图像产生不同的效果\n",
    "#模糊\n",
    "kernel=np.ones((5,5),dtype=float)/25\n",
    "\n",
    "#锐化\n",
    "#kernel=np.array([[-1,-1,-1],[-1,9,-1],[-1,-1,-1]])\n",
    "\n",
    "pic_fil=cv2.filter2D(pic,-1,kernel)\n",
    "\n",
    "cv2.imshow('pic_fil',pic_fil)\n",
    "cv2.imshow('pic',pic)\n",
    "\n",
    "while cv2.waitKey(0)!=ord('q'):\n",
    "    None\n",
    "cv2.destroyAllWindows()"
   ]
  },
  {
   "cell_type": "markdown",
   "id": "4ed2e325",
   "metadata": {},
   "source": [
    "# 滤波"
   ]
  },
  {
   "cell_type": "code",
   "execution_count": 14,
   "id": "ac4bf199",
   "metadata": {},
   "outputs": [],
   "source": [
    "#方盒滤波 cv2.boxFilter(src, ddepth, ksize[, dst[, anchor[, normalize[, borderType]]]])\n",
    "\n",
    "#kernel=np.ones((5,5),dtype=float)*3\n",
    "\n",
    "#不用手动创建卷积核，只需告诉方盒滤波卷积核的大小是多少\n",
    "pic=cv2.imread('../material/used/pic4.png')\n",
    "pic_1=cv2.boxFilter(pic, -1,(3,3),normalize=True)\n",
    "\n",
    "cv2.imshow('pic_1',pic_1)\n",
    "cv2.imshow('pic',pic)\n",
    "\n",
    "while cv2.waitKey(0)!=ord('q'):\n",
    "    None\n",
    "cv2.destroyAllWindows()"
   ]
  },
  {
   "cell_type": "code",
   "execution_count": 16,
   "id": "01f86fef",
   "metadata": {},
   "outputs": [],
   "source": [
    "#均值滤波cv2.blur()没有ddepth和normalize参数\n",
    "pic=cv2.imread('../material/used/pic4.png')\n",
    "\n",
    "pic_1=cv2.blur(pic,(3,3))\n",
    "\n",
    "cv2.imshow('pic_1',pic_1)\n",
    "cv2.imshow('pic',pic)\n",
    "\n",
    "while cv2.waitKey(0)!=ord('q'):\n",
    "    None\n",
    "cv2.destroyAllWindows()"
   ]
  },
  {
   "cell_type": "code",
   "execution_count": 18,
   "id": "e31fdc01",
   "metadata": {},
   "outputs": [],
   "source": [
    "'''\n",
    "高斯滤波\n",
    "高斯滤波 是使用符合高斯分布的卷积核对图片进行卷积操作，所以高斯滤波的重点就是如何计算符合高斯分布的卷积核\n",
    "高斯滤波的权重服从二维正态分布，越靠近窗口中心点（也即当前滤波点），权重越大\n",
    "cv2.DaussianBlur(src, ksize, sigmaX[, dst[, sigmaY[, borderType]]])\n",
    "'''\n",
    "pic=cv2.imread('../material/used/pic4.png')\n",
    "\n",
    "pic_1=cv2.GaussianBlur(pic,(5,5),sigmaX=2)\n",
    "\n",
    "cv2.imshow('pic_1',pic_1)\n",
    "cv2.imshow('pic',pic)\n",
    "\n",
    "while cv2.waitKey(0)!=ord('q'):\n",
    "    None\n",
    "cv2.destroyAllWindows()"
   ]
  },
  {
   "cell_type": "markdown",
   "id": "a1909841",
   "metadata": {},
   "source": [
    "高斯滤波卷积核的计算公式$G(x,y)=\\frac{1}{2\\pi\\sigma^2}e^{-\\frac{x^2+y^2}{2\\sigma^2}}$\n"
   ]
  },
  {
   "cell_type": "code",
   "execution_count": 12,
   "id": "2333f70e",
   "metadata": {},
   "outputs": [],
   "source": [
    "'''\n",
    "中值滤波medianBlur(src, ksize[, dst]) 的基本原理是把数字图像或数字序列中一点的值用该点的一个邻域中各点值的中\n",
    "值代替，让周围的像素值接近的真实值，从而消除孤立的噪声点\n",
    "'''\n",
    "pic=cv2.imread('../material/used/images/shenzhen_noise.bmp')\n",
    "\n",
    "pic_1=cv2.medianBlur(pic,3)\n",
    "pic_1=cv2.medianBlur(pic_1,7)\n",
    "\n",
    "\n",
    "cv2.imshow('pic_1',pic_1)\n",
    "cv2.imshow('pic',pic)\n",
    "\n",
    "while cv2.waitKey(0)!=ord('q'):\n",
    "    None\n",
    "cv2.destroyAllWindows()"
   ]
  },
  {
   "cell_type": "code",
   "execution_count": 25,
   "id": "ad7f8197",
   "metadata": {},
   "outputs": [],
   "source": [
    "'''\n",
    "双边滤波cv2.bilateralFilter(src, d, sigmaColor, sigmaSpace[, dst[, borderType]])\n",
    "d是kernelsize\n",
    "sigmaColor 和 sigmaSpace 分别是值域高斯函数和空间与高斯函数内的σ，sigmaColor越大，越不容易识别边缘\n",
    "双边滤波对于图像的边缘信息能过更好的保存。具原理为一个与空间距离相关的高斯函数与一个灰度距离相关的高斯函数相乘\n",
    "双边滤波可以保留边缘， 同时可以对边缘内的区域进行平滑处理\n",
    "'''\n",
    "import cv2\n",
    "import numpy as np\n",
    "\n",
    "pic=cv2.imread('../material/used/images/shenzhen_noise.bmp',0)\n",
    "pic_2=cv2.imread('../material/used/images/shenzhen_gray.bmp',0)\n",
    "\n",
    "#pic_1=cv2.blur(pic,(3,3))\n",
    "#pic_1=cv2.filter2D(pic,-1,np.ones((3,3),dtype=float)/9)\n",
    "#pic_1=cv2.filter2D(pic_1,-1,np.array([[-1,-1,-1],[-1,8,-1],[-1,-1,-1]]))\n",
    "pic_1=cv2.GaussianBlur(pic,(3,3),3,3)\n",
    "pic_1=cv2.bilateralFilter(pic_1,3,sigmaColor=30,sigmaSpace=5)\n",
    "#pic_1=cv2.bilateralFilter(pic_1,3,sigmaColor=30,sigmaSpace=5)\n",
    "\n",
    "\n",
    "#cv2.namedWindow('pic_1',cv2.WINDOW_NORMAL)\n",
    "#cv2.namedWindow('pic',cv2.WINDOW_NORMAL)\n",
    "#cv2.resizeWindow('pic_1',(800,600))\n",
    "#cv2.resizeWindow('pic',(800,600))\n",
    "\n",
    "cv2.imshow('pic_1',pic_1)\n",
    "cv2.imshow('pic',pic)\n",
    "cv2.imshow('pic_2',pic_2)\n",
    "\n",
    "\n",
    "while cv2.waitKey(0)!=ord('q'):\n",
    "    None\n",
    "cv2.destroyAllWindows()"
   ]
  },
  {
   "cell_type": "markdown",
   "id": "ef3ba9be",
   "metadata": {},
   "source": [
    "空间距离指的是当前点与中心点的欧式距离。空间域高斯函数其数学形式为：\n",
    "$e^-\\frac{(x_i-x_c)^2+(y_i-y_c)^2}{2\\sigma^2}$\n",
    "\n",
    "灰度距离指的是当前点灰度与中心点灰度的差的绝对值，值域高斯函数数学形式为\n",
    "$e^-\\frac{(gray (x_i,y_i)-gray (x_c,y_c))^2}{2\\sigma^2}$\n"
   ]
  },
  {
   "cell_type": "code",
   "execution_count": null,
   "id": "da81910a",
   "metadata": {},
   "outputs": [],
   "source": []
  }
 ],
 "metadata": {
  "kernelspec": {
   "display_name": "Python 3 (ipykernel)",
   "language": "python",
   "name": "python3"
  },
  "language_info": {
   "codemirror_mode": {
    "name": "ipython",
    "version": 3
   },
   "file_extension": ".py",
   "mimetype": "text/x-python",
   "name": "python",
   "nbconvert_exporter": "python",
   "pygments_lexer": "ipython3",
   "version": "3.9.12"
  }
 },
 "nbformat": 4,
 "nbformat_minor": 5
}
