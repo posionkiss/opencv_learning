{
 "cells": [
  {
   "cell_type": "markdown",
   "id": "c79a1116",
   "metadata": {},
   "source": [
    "# 视频录制"
   ]
  },
  {
   "cell_type": "code",
   "execution_count": 4,
   "id": "d97f5549",
   "metadata": {},
   "outputs": [],
   "source": [
    "#用摄像头录制视频\n",
    "import cv2\n",
    "\n",
    "#打开摄像头\n",
    "cam=cv2.VideoCapture(0)\n",
    "\n",
    "#规定编码器\n",
    "fourcc=cv2.VideoWriter_fourcc('m','p','4','v')\n",
    "\n",
    "#创建cv2.videoWriter对象，四个参数分别为路径和名称（或默认路径为当前文件夹下）、编码器、帧率、分辨率\n",
    "ved=cv2.VideoWriter('../material/saved/录制的视频.mp4',fourcc,20,(640,480))\n",
    "\n",
    "while cam.isOpened():\n",
    "    \n",
    "    #从摄像头读取\n",
    "    ret,frame=cam.read()\n",
    "    \n",
    "    if not ret:\n",
    "        break\n",
    "    \n",
    "    #写入ved中\n",
    "    ved.write(frame)\n",
    "    \n",
    "    cv2.imshow('window',frame)\n",
    "    \n",
    "    if cv2.waitKey(50)==ord('q'):\n",
    "        break\n",
    "\n",
    "#释放cv2.VideoCptuer对象和cv2.VideoWriter对象，关闭摄像头\n",
    "ved.release()\n",
    "cam.release()\n",
    "\n",
    "cv2.destroyAllWindows()"
   ]
  },
  {
   "cell_type": "code",
   "execution_count": 1,
   "id": "1d915661",
   "metadata": {},
   "outputs": [],
   "source": [
    "import cv2"
   ]
  },
  {
   "cell_type": "code",
   "execution_count": null,
   "id": "a33abed9",
   "metadata": {},
   "outputs": [],
   "source": [
    "#示例\n",
    "\n",
    "ved_c=cv2.VideoCapture(0)\n",
    "ved_w=cv2.VideoWriter('1.mp4',cv2.VideoWriter_fourcc('m','p','4','v'),20,(640,480))\n",
    "\n",
    "while ved_c.isOpened():\n",
    "    jet,frame=ved_c.read()\n",
    "    if not jet:\n",
    "        break\n",
    "        \n",
    "    cv2.imshow('window',frame)\n",
    "    ved_w.write(frame)\n",
    "    \n",
    "    if cv2.waitKey(50)==ord('q'):\n",
    "        break\n",
    "ved_c.release()\n",
    "ved_w.release()\n",
    "cv2.destroyAllWindows()        "
   ]
  },
  {
   "cell_type": "code",
   "execution_count": null,
   "id": "8705ef4e",
   "metadata": {},
   "outputs": [],
   "source": []
  }
 ],
 "metadata": {
  "kernelspec": {
   "display_name": "py_opencv",
   "language": "python",
   "name": "opencv"
  },
  "language_info": {
   "codemirror_mode": {
    "name": "ipython",
    "version": 3
   },
   "file_extension": ".py",
   "mimetype": "text/x-python",
   "name": "python",
   "nbconvert_exporter": "python",
   "pygments_lexer": "ipython3",
   "version": "3.9.13"
  }
 },
 "nbformat": 4,
 "nbformat_minor": 5
}
