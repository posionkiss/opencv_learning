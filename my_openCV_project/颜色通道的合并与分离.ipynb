{
 "cells": [
  {
   "cell_type": "code",
   "execution_count": 1,
   "id": "f5e640c0",
   "metadata": {},
   "outputs": [],
   "source": [
    "#如cv2.imshow('window',img)，opencv是用mat文件来保存图片的，python将mat文件转化成了numpy的ndarray（img）\n",
    "import cv2\n",
    "import numpy as np\n",
    "wall_pic51=cv2.imread('../material/used/wall pic51.png')\n",
    "cv2.namedWindow('window',cv2.WINDOW_NORMAL)\n",
    "cv2.resizeWindow('window',(wall_pic51.shape[1],wall_pic51.shape[0]))\n",
    "\n",
    "#cv2.split()和cv2.merge()分别表示颜色通道的合并与分离，比如BGR通道，将BGR拆成B、G、R，编辑后重新合并起来\n",
    "\n",
    "b,g,r=cv2.split(wall_pic51)\n",
    "b[0:300,0:100]=90\n",
    "wall_pic51_1mod=cv2.merge((b,g,r))\n",
    "cv2.imshow('window',wall_pic51_1mod)\n",
    "if cv2.waitKey(0)==ord('q'):\n",
    "    cv2.destroyAllWindows()"
   ]
  },
  {
   "cell_type": "code",
   "execution_count": null,
   "id": "4d67caca",
   "metadata": {},
   "outputs": [],
   "source": []
  }
 ],
 "metadata": {
  "kernelspec": {
   "display_name": "py_opencv",
   "language": "python",
   "name": "opencv"
  },
  "language_info": {
   "codemirror_mode": {
    "name": "ipython",
    "version": 3
   },
   "file_extension": ".py",
   "mimetype": "text/x-python",
   "name": "python",
   "nbconvert_exporter": "python",
   "pygments_lexer": "ipython3",
   "version": "3.9.13"
  }
 },
 "nbformat": 4,
 "nbformat_minor": 5
}
