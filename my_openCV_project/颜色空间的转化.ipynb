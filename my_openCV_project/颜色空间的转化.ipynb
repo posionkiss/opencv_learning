{
 "cells": [
  {
   "cell_type": "code",
   "execution_count": 6,
   "id": "e005555a",
   "metadata": {},
   "outputs": [],
   "source": [
    "import cv2\n",
    "from utils import cv_show\n",
    "\n",
    "wall_pic51=cv2.imread('../material/used/wall pic51.png')\n",
    "wall_pic51_shape=wall_pic51.shape\n",
    "\n",
    "#直接展示导入的wall_pic51\n",
    "cv_show('colorspace cvt',wall_pic51,wall_pic51_shape[0],wall_pic51_shape[1])\n",
    "\n",
    "#用cv2.cvtColor函数实现颜色通道的转化\n",
    "wall_pic51_1mod=cv2.cvtColor(wall_pic51,cv2.COLOR_BGR2HLS)\n"
   ]
  },
  {
   "cell_type": "code",
   "execution_count": 5,
   "id": "0ca01f95",
   "metadata": {},
   "outputs": [],
   "source": [
    "cv_show('colorspace cvt2',wall_pic51_1mod,wall_pic51_shape[0],wall_pic51_shape[1])"
   ]
  },
  {
   "cell_type": "code",
   "execution_count": 1,
   "id": "a2ee35d4",
   "metadata": {},
   "outputs": [],
   "source": [
    "#用trackbar实现colorspace的自由调整\n",
    "import cv2\n",
    "\n",
    "def callback(value):\n",
    "    if value==0:\n",
    "        cv2.imshow('colorspace cvt',wall_pic51)\n",
    "    else:\n",
    "        wall_pic51_1mod=cv2.cvtColor(wall_pic51,colorspace[value-1])\n",
    "        wall_pic51_1mod_shape=wall_pic51_1mod.shape\n",
    "        cv2.imshow('colorspace cvt',wall_pic51_1mod)    \n",
    "    \n",
    "wall_pic51=cv2.imread('../material/used/wall pic51.png')\n",
    "wall_pic51_shape=wall_pic51.shape\n",
    "\n",
    "colorspace=[cv2.COLOR_BGR2RGB,cv2.COLOR_BGR2HLS,cv2.COLOR_BGR2HSV,cv2.COLOR_BGR2GRAY]\n",
    "cv2.namedWindow('colorspace cvt',cv2.WINDOW_NORMAL)\n",
    "cv2.resizeWindow('colorspace cvt',wall_pic51_shape[0],wall_pic51_shape[1])\n",
    "\n",
    "cv2.createTrackbar('colorspace','colorspace cvt',0,4,callback)\n",
    "cv2.imshow('colorspace cvt',wall_pic51)\n",
    "\n",
    "if cv2.waitKey(0)==ord('q'):        \n",
    "    cv2.destroyAllWindows()\n",
    "\n"
   ]
  },
  {
   "cell_type": "code",
   "execution_count": 18,
   "id": "3408be94",
   "metadata": {},
   "outputs": [],
   "source": [
    "import cv2\n",
    "from utils import cv_show\n",
    "\n",
    "wall_pic51=cv2.imread('../material/used/wall pic51.png')\n",
    "wall_pic51_shape=wall_pic51.shape\n",
    "\n",
    "\n",
    "#用cv2.cvtColor函数实现颜色通道的转化\n",
    "wall_pic51_1mod=cv2.cvtColor(wall_pic51,cv2.COLOR_BGR2HLS)\n",
    "\n",
    "cv_show('colorspace cvt2',wall_pic51_1mod,wall_pic51_shape[0],wall_pic51_shape[1])\n"
   ]
  },
  {
   "cell_type": "code",
   "execution_count": null,
   "id": "4cba094c",
   "metadata": {},
   "outputs": [],
   "source": []
  }
 ],
 "metadata": {
  "kernelspec": {
   "display_name": "Python 3 (ipykernel)",
   "language": "python",
   "name": "python3"
  },
  "language_info": {
   "codemirror_mode": {
    "name": "ipython",
    "version": 3
   },
   "file_extension": ".py",
   "mimetype": "text/x-python",
   "name": "python",
   "nbconvert_exporter": "python",
   "pygments_lexer": "ipython3",
   "version": "3.10.5"
  }
 },
 "nbformat": 4,
 "nbformat_minor": 5
}
