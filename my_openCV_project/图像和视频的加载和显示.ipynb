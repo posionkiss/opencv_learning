{
 "cells": [
  {
   "cell_type": "code",
   "execution_count": 2,
   "id": "8e9774c6",
   "metadata": {},
   "outputs": [],
   "source": [
    "import cv2\n",
    "import matplotlib as plt"
   ]
  },
  {
   "cell_type": "markdown",
   "id": "b1eda82e",
   "metadata": {},
   "source": [
    "# 窗口的创建和销毁"
   ]
  },
  {
   "cell_type": "code",
   "execution_count": 3,
   "id": "3ef7cf1d",
   "metadata": {},
   "outputs": [],
   "source": [
    "#创建窗口\n",
    "cv2.namedWindow('window',cv2.WINDOW_NORMAL)\n",
    "#WINDOW_AUTOSIZE不能用resizeWindow改大小，WINDOW_NORMAL可以\n",
    "\n",
    "#更改窗口大小\n",
    "cv2.resizeWindow('window',800,600)\n",
    "\n",
    "#展示名为‘window’的窗口\n",
    "cv2.imshow('window',0)\n",
    "\n",
    "#不重启来销毁窗口\n",
    "while True:\n",
    "    key=cv2.waitKey(0)\n",
    "    if key==ord('q'):\n",
    "        cv2.destroyAllWindows()\n",
    "        break"
   ]
  },
  {
   "cell_type": "code",
   "execution_count": null,
   "id": "3345fe97",
   "metadata": {},
   "outputs": [],
   "source": [
    "#等待按键\n",
    "cv2.waitKey()\n",
    "#waitKey返回按键的ASCII码值,ord()函数返回ASCII码值\n",
    "#0表示接收任意按键，给其他的整数表示等待的时间（单位ms）"
   ]
  },
  {
   "cell_type": "markdown",
   "id": "8ff7f98f",
   "metadata": {},
   "source": [
    "# 读取图片"
   ]
  },
  {
   "cell_type": "code",
   "execution_count": 5,
   "id": "ab410659",
   "metadata": {},
   "outputs": [
    {
     "ename": "ModuleNotFoundError",
     "evalue": "No module named 'matplotlib'",
     "output_type": "error",
     "traceback": [
      "\u001b[1;31m---------------------------------------------------------------------------\u001b[0m",
      "\u001b[1;31mModuleNotFoundError\u001b[0m                       Traceback (most recent call last)",
      "Cell \u001b[1;32mIn [5], line 1\u001b[0m\n\u001b[1;32m----> 1\u001b[0m \u001b[38;5;28;01mimport\u001b[39;00m \u001b[38;5;21;01mmatplotlib\u001b[39;00m\u001b[38;5;21;01m.\u001b[39;00m\u001b[38;5;21;01mpyplot\u001b[39;00m \u001b[38;5;28;01mas\u001b[39;00m \u001b[38;5;21;01mplt\u001b[39;00m\n",
      "\u001b[1;31mModuleNotFoundError\u001b[0m: No module named 'matplotlib'"
     ]
    }
   ],
   "source": [
    "import matplotlib.pyplot as plt"
   ]
  },
  {
   "cell_type": "code",
   "execution_count": 2,
   "id": "eb9b413a",
   "metadata": {},
   "outputs": [
    {
     "data": {
      "text/plain": [
       "(2400, 3840, 3)"
      ]
     },
     "execution_count": 2,
     "metadata": {},
     "output_type": "execute_result"
    }
   ],
   "source": [
    "#读取图片  cv2.imread()的第二个参数表示读图方式，1表示原图，0表示灰度\n",
    "wall_pic=cv2.imread('../material/used/wall pic51.png')\n",
    "wall_pic_shape=wall_pic.shape\n",
    "wall_pic_shape"
   ]
  },
  {
   "cell_type": "code",
   "execution_count": 12,
   "id": "195e13ee",
   "metadata": {
    "collapsed": true
   },
   "outputs": [
    {
     "ename": "error",
     "evalue": "OpenCV(4.6.0) :-1: error: (-5:Bad argument) in function 'resize'\n> Overload resolution failed:\n>  - Can't parse 'dsize'. Sequence item with index 1 has a wrong type\n>  - Can't parse 'dsize'. Sequence item with index 1 has a wrong type\n",
     "output_type": "error",
     "traceback": [
      "\u001b[1;31m---------------------------------------------------------------------------\u001b[0m",
      "\u001b[1;31merror\u001b[0m                                     Traceback (most recent call last)",
      "Input \u001b[1;32mIn [12]\u001b[0m, in \u001b[0;36m<cell line: 3>\u001b[1;34m()\u001b[0m\n\u001b[0;32m      1\u001b[0m \u001b[38;5;66;03m#跳过cv2.namedWindow，直接用cv2.imshow展示图片\u001b[39;00m\n\u001b[0;32m      2\u001b[0m \u001b[38;5;66;03m#根据分辨率调整wall_pic\u001b[39;00m\n\u001b[1;32m----> 3\u001b[0m wall_pic\u001b[38;5;241m=\u001b[39m\u001b[43mcv2\u001b[49m\u001b[38;5;241;43m.\u001b[39;49m\u001b[43mresize\u001b[49m\u001b[43m(\u001b[49m\u001b[43mwall_pic\u001b[49m\u001b[43m,\u001b[49m\u001b[43m(\u001b[49m\u001b[43mwall_pic_shape\u001b[49m\u001b[43m[\u001b[49m\u001b[38;5;241;43m0\u001b[39;49m\u001b[43m]\u001b[49m\u001b[43m,\u001b[49m\u001b[38;5;241;43m0.25\u001b[39;49m\u001b[38;5;241;43m*\u001b[39;49m\u001b[43mwall_pic_shape\u001b[49m\u001b[43m[\u001b[49m\u001b[38;5;241;43m1\u001b[39;49m\u001b[43m]\u001b[49m\u001b[43m)\u001b[49m\u001b[43m)\u001b[49m\n\u001b[0;32m      5\u001b[0m \u001b[38;5;66;03m#展示wall_pic\u001b[39;00m\n\u001b[0;32m      6\u001b[0m cv2\u001b[38;5;241m.\u001b[39mimshow(\u001b[38;5;124m'\u001b[39m\u001b[38;5;124mwall pic51\u001b[39m\u001b[38;5;124m'\u001b[39m,wall_pic)\n",
      "\u001b[1;31merror\u001b[0m: OpenCV(4.6.0) :-1: error: (-5:Bad argument) in function 'resize'\n> Overload resolution failed:\n>  - Can't parse 'dsize'. Sequence item with index 1 has a wrong type\n>  - Can't parse 'dsize'. Sequence item with index 1 has a wrong type\n"
     ]
    }
   ],
   "source": [
    "#如果直接用cv2.imshow看图只看到一部分的话，就在前面加cv2.namedWindow()\n",
    "\n",
    "#忽略它们\n",
    "#跳过cv2.namedWindow，直接用cv2.imshow展示图片\n",
    "#根据分辨率调整wall_pic\n",
    "#wall_pic=cv2.resize(wall_pic,(wall_pic_shape[0],wall_pic_shape[1]))\n",
    "\n",
    "#展示wall_pic\n",
    "#cv2.imshow('wall pic51',wall_pic)\n",
    "\n",
    "#按q关闭\n",
    "#key=cv2.waitKey(0)\n",
    "#if key==ord('q'):\n",
    "#    cv2.destroyAllWindows()"
   ]
  },
  {
   "cell_type": "code",
   "execution_count": 4,
   "id": "00ef8e3f",
   "metadata": {},
   "outputs": [],
   "source": [
    "#创建名为“wall_pic51”的窗口\n",
    "cv2.namedWindow('wall_pic51',cv2.WINDOW_NORMAL)\n",
    "\n",
    "#改变窗口大小\n",
    "#cv2.resizeWindow('wall_pic51',960,600)\n",
    "\n",
    "#或调整wall_pic\n",
    "#wall_pic=cv2.resize(wall_pic,(640,400))\n",
    "\n",
    "#用cv2.imshow来展示图片\n",
    "cv2.imshow('wall_pic51',wall_pic)\n",
    "\n",
    "key=cv2.waitKey(0)\n",
    "if key==ord('q'):\n",
    "    cv2.destroyAllWindows()"
   ]
  },
  {
   "cell_type": "code",
   "execution_count": 4,
   "id": "3536768e",
   "metadata": {},
   "outputs": [
    {
     "ename": "AttributeError",
     "evalue": "module 'matplotlib' has no attribute 's'",
     "output_type": "error",
     "traceback": [
      "\u001b[1;31m---------------------------------------------------------------------------\u001b[0m",
      "\u001b[1;31mAttributeError\u001b[0m                            Traceback (most recent call last)",
      "Input \u001b[1;32mIn [4]\u001b[0m, in \u001b[0;36m<cell line: 2>\u001b[1;34m()\u001b[0m\n\u001b[0;32m      1\u001b[0m \u001b[38;5;66;03m#用matplotlib显示图片wall_pic\u001b[39;00m\n\u001b[1;32m----> 2\u001b[0m \u001b[43mplt\u001b[49m\u001b[38;5;241;43m.\u001b[39;49m\u001b[43ms\u001b[49m\n",
      "File \u001b[1;32mD:\\anaconda\\envs\\opencv\\lib\\site-packages\\matplotlib\\_api\\__init__.py:222\u001b[0m, in \u001b[0;36mcaching_module_getattr.<locals>.__getattr__\u001b[1;34m(name)\u001b[0m\n\u001b[0;32m    220\u001b[0m \u001b[38;5;28;01mif\u001b[39;00m name \u001b[38;5;129;01min\u001b[39;00m props:\n\u001b[0;32m    221\u001b[0m     \u001b[38;5;28;01mreturn\u001b[39;00m props[name]\u001b[38;5;241m.\u001b[39m\u001b[38;5;21m__get__\u001b[39m(instance)\n\u001b[1;32m--> 222\u001b[0m \u001b[38;5;28;01mraise\u001b[39;00m \u001b[38;5;167;01mAttributeError\u001b[39;00m(\n\u001b[0;32m    223\u001b[0m     \u001b[38;5;124mf\u001b[39m\u001b[38;5;124m\"\u001b[39m\u001b[38;5;124mmodule \u001b[39m\u001b[38;5;132;01m{\u001b[39;00m\u001b[38;5;28mcls\u001b[39m\u001b[38;5;241m.\u001b[39m\u001b[38;5;18m__module__\u001b[39m\u001b[38;5;132;01m!r}\u001b[39;00m\u001b[38;5;124m has no attribute \u001b[39m\u001b[38;5;132;01m{\u001b[39;00mname\u001b[38;5;132;01m!r}\u001b[39;00m\u001b[38;5;124m\"\u001b[39m)\n",
      "\u001b[1;31mAttributeError\u001b[0m: module 'matplotlib' has no attribute 's'"
     ]
    }
   ],
   "source": [
    "#用matplotlib显示图片wall_pic\n",
    "plt.s\n",
    "#此时颜色发生了变化，因为openCV读入数据的通道不是默红绿蓝(RGB),而是蓝绿红(BGR)\n",
    "#所以openCV读进来的图片，尽量用openCV自己的方式展示就没有问题"
   ]
  },
  {
   "cell_type": "code",
   "execution_count": 6,
   "id": "e4b5c718",
   "metadata": {},
   "outputs": [],
   "source": [
    "#将展示图片和关闭窗口的方法封装成函数\n",
    "def cv_show(win_name,pic,col,row):\n",
    "    cv2.namedWindow(win_name,cv2.WINDOW_NORMAL)\n",
    "    cv2.resizeWindow(win_name,col,row)\n",
    "    cv2.imshow(win_name,pic)\n",
    "    key=cv2.waitKey(0)\n",
    "    if key==ord('q'):\n",
    "        cv2.destroyAllWindows()\n",
    "    "
   ]
  },
  {
   "cell_type": "code",
   "execution_count": 7,
   "id": "ece4c773",
   "metadata": {},
   "outputs": [],
   "source": [
    "#调用封装函数\n",
    "cv_show('wall pic51',wall_pic,wall_pic_shape[0],wall_pic_shape[1])"
   ]
  },
  {
   "cell_type": "code",
   "execution_count": 8,
   "id": "fc77fd9a",
   "metadata": {},
   "outputs": [],
   "source": [
    "#从外部导入自己封装的函数\n",
    "from utils import cv_show"
   ]
  },
  {
   "cell_type": "code",
   "execution_count": 4,
   "id": "8f2caa1f",
   "metadata": {},
   "outputs": [],
   "source": [
    "#其它示例\n",
    "wall_pic9=cv2.imread('D:/pictures/wall-pic/used/wall pic9.png')\n",
    "wall_pic9_shape=wall_pic9.shape\n",
    "\n",
    "cv_show('wall pic9',wall_pic9,wall_pic9_shape[0],wall_pic9_shape[1])"
   ]
  },
  {
   "cell_type": "markdown",
   "id": "60ac4fc4",
   "metadata": {},
   "source": [
    "# 视频的加载和显示"
   ]
  },
  {
   "cell_type": "code",
   "execution_count": 3,
   "id": "745b558c",
   "metadata": {},
   "outputs": [],
   "source": [
    "import cv2\n",
    "\n",
    "cv2.namedWindow('video',cv2.WINDOW_NORMAL)\n",
    "cv2.resizeWindow('video',600,400)\n",
    "\n",
    "#捕获摄像头\n",
    "ved1=cv2.VideoCapture(0)\n",
    "\n",
    "while ved1.isOpened:\n",
    "    ret,pic = ved1.read()\n",
    "    if ret:\n",
    "        cv2.imshow('video',pic)\n",
    "        key=cv2.waitKey(20)\n",
    "        if key==ord('q'):\n",
    "            ved1.release()\n",
    "            break\n",
    "        continue\n",
    "#    key=cv2.waitKey(0)\n",
    " #   if key==ord('q'):\n",
    "  #      break\n",
    "\n",
    "#ved1.release()\n",
    "cv2.destroyAllWindows()"
   ]
  },
  {
   "cell_type": "code",
   "execution_count": 1,
   "id": "aca1dc13",
   "metadata": {},
   "outputs": [],
   "source": [
    "import cv2\n",
    "\n",
    "cv2.namedWindow('video',cv2.WINDOW_NORMAL)\n",
    "cv2.resizeWindow('video',600,400)\n",
    "\n",
    "#获取本机视频\n",
    "ved1=cv2.VideoCapture('../material/used/video1.mp4')\n",
    "\n",
    "while ved1.isOpened:\n",
    "    ret,pic = ved1.read()\n",
    "    if ret:\n",
    "        cv2.imshow('video',pic)\n",
    "        key=cv2.waitKey(20)\n",
    "        if key==ord('q'):\n",
    "            break\n",
    "        continue\n",
    "    key=cv2.waitKey(0)\n",
    "    if key==ord('q'):\n",
    "        break\n",
    "        \n",
    "ved1.release()\n",
    "cv2.destroyAllWindows()"
   ]
  },
  {
   "cell_type": "code",
   "execution_count": 4,
   "id": "a0a4f9eb",
   "metadata": {},
   "outputs": [],
   "source": [
    "import cv2\n",
    "wall_pic=cv2.imread('../material/used/wall pic51.png')\n",
    "wall_pic_shape=wall_pic.shape\n",
    "cv2.namedWindow('window',cv2.WINDOW_AUTOSIZE)\n",
    "cv2.resizeWindow('window',600,400)\n",
    "cv2.imshow('window',wall_pic)\n",
    "while cv2.waitKey(0)!=ord('q'):\n",
    "    None\n",
    "cv2.destroyAllWindows()"
   ]
  },
  {
   "cell_type": "code",
   "execution_count": null,
   "id": "340bb715",
   "metadata": {},
   "outputs": [],
   "source": []
  }
 ],
 "metadata": {
  "celltoolbar": "原始单元格格式",
  "kernelspec": {
   "display_name": "py_opencv",
   "language": "python",
   "name": "opencv"
  },
  "language_info": {
   "codemirror_mode": {
    "name": "ipython",
    "version": 3
   },
   "file_extension": ".py",
   "mimetype": "text/x-python",
   "name": "python",
   "nbconvert_exporter": "python",
   "pygments_lexer": "ipython3",
   "version": "3.9.13"
  }
 },
 "nbformat": 4,
 "nbformat_minor": 5
}
