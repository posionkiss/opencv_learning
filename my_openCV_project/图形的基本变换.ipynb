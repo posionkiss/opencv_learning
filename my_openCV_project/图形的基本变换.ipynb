{
 "cells": [
  {
   "cell_type": "code",
   "execution_count": 1,
   "id": "7d20db96",
   "metadata": {},
   "outputs": [],
   "source": [
    "import cv2\n",
    "import numpy as np"
   ]
  },
  {
   "cell_type": "code",
   "execution_count": null,
   "id": "647e170b",
   "metadata": {},
   "outputs": [],
   "source": [
    "pic3=cv2.imread('../material/used/pic3.png')\n",
    "pic4=cv2.imread('../material/used/pic4.png')"
   ]
  },
  {
   "cell_type": "code",
   "execution_count": 6,
   "id": "f57b18d1",
   "metadata": {},
   "outputs": [],
   "source": [
    "cv2.namedWindow('pic3',cv2.WINDOW_NORMAL)\n",
    "cv2.resizeWindow('pic3',pic3.shape[1],pic3.shape[0])\n",
    "cv2.imshow('pic3',pic3)\n",
    "while cv2.waitKey(0)!=ord('q'):\n",
    "    None\n",
    "cv2.destroyAllWindows()"
   ]
  },
  {
   "cell_type": "code",
   "execution_count": 4,
   "id": "0745589f",
   "metadata": {},
   "outputs": [],
   "source": [
    "cv2.namedWindow('pic4',cv2.WINDOW_NORMAL)\n",
    "cv2.resizeWindow('pic4',pic4.shape[1],pic4.shape[0])\n",
    "cv2.imshow('pic4',pic4)\n",
    "while cv2.waitKey(0)!=ord('q'):\n",
    "    None\n",
    "cv2.destroyAllWindows()"
   ]
  },
  {
   "cell_type": "markdown",
   "id": "b835cb1a",
   "metadata": {},
   "source": [
    "# 图形的放大与缩小"
   ]
  },
  {
   "cell_type": "code",
   "execution_count": 24,
   "id": "beb260fd",
   "metadata": {},
   "outputs": [
    {
     "name": "stdout",
     "output_type": "stream",
     "text": [
      "(384, 614, 3)\n",
      "(384, 614, 3)\n"
     ]
    }
   ],
   "source": [
    "#cv2.resize(pic, dsize[, dst[, fx[, fy[, interpolation]]]])\n",
    "#把pic4缩小后，再把pic3缩放成和pic4一样大\n",
    "print(pic3.shape)\n",
    "print(pic4.shape)"
   ]
  },
  {
   "cell_type": "code",
   "execution_count": 3,
   "id": "d32e2e99",
   "metadata": {},
   "outputs": [],
   "source": [
    "#若想按长宽比拉伸，dsize要写None\n",
    "pic4=cv2.resize(pic4,dsize=None,fx=0.16,fy=0.16)"
   ]
  },
  {
   "cell_type": "code",
   "execution_count": 4,
   "id": "e72614ba",
   "metadata": {},
   "outputs": [],
   "source": [
    "cv2.imshow('pic4',pic4)\n",
    "while cv2.waitKey(0)!=ord('q'):\n",
    "    None\n",
    "cv2.destroyAllWindows()"
   ]
  },
  {
   "cell_type": "code",
   "execution_count": 5,
   "id": "28a1d5a1",
   "metadata": {},
   "outputs": [],
   "source": [
    "pic3=cv2.resize(pic3,dsize=(pic4.shape[1],pic4.shape[0]))#shape属性是先行后列,而opencv描述图片的size是先长后\n",
    "                                                         #宽，所以要反写\n"
   ]
  },
  {
   "cell_type": "code",
   "execution_count": 6,
   "id": "b51d2681",
   "metadata": {},
   "outputs": [],
   "source": [
    "cv2.imshow('pic3',pic3)\n",
    "while cv2.waitKey(0)!=ord('q'):\n",
    "    None\n",
    "cv2.destroyAllWindows()"
   ]
  },
  {
   "cell_type": "code",
   "execution_count": 7,
   "id": "85dd5932",
   "metadata": {},
   "outputs": [
    {
     "data": {
      "text/plain": [
       "True"
      ]
     },
     "execution_count": 7,
     "metadata": {},
     "output_type": "execute_result"
    }
   ],
   "source": [
    "#cv2.imwrite('../material/used/pic3.png',pic3)\n",
    "#cv2.imwrite('../material/used/pic4.png',pic4)"
   ]
  },
  {
   "cell_type": "markdown",
   "id": "16c435fd",
   "metadata": {},
   "source": [
    "# 图形的翻转"
   ]
  },
  {
   "cell_type": "code",
   "execution_count": 5,
   "id": "ad056368",
   "metadata": {},
   "outputs": [],
   "source": [
    "#cv2.flip(pic,flipcode) flipcoda==0,上下翻   >0左右翻    <0上下左右翻\n",
    "pic3_flip=cv2.flip(pic3,flipCode=-1)"
   ]
  },
  {
   "cell_type": "code",
   "execution_count": 29,
   "id": "be4d90f3",
   "metadata": {},
   "outputs": [
    {
     "data": {
      "text/plain": [
       "(384, 614, 3)"
      ]
     },
     "execution_count": 29,
     "metadata": {},
     "output_type": "execute_result"
    }
   ],
   "source": [
    "pic3_flip.shape"
   ]
  },
  {
   "cell_type": "code",
   "execution_count": 6,
   "id": "27a84c54",
   "metadata": {},
   "outputs": [],
   "source": [
    "cv2.imshow('pic3_flip',pic3_flip)\n",
    "while cv2.waitKey(0)!=ord('q'):\n",
    "    None\n",
    "cv2.destroyAllWindows()"
   ]
  },
  {
   "cell_type": "markdown",
   "id": "47b657ed",
   "metadata": {},
   "source": [
    "# 图形的旋转"
   ]
  },
  {
   "cell_type": "code",
   "execution_count": 7,
   "id": "d27a5df6",
   "metadata": {},
   "outputs": [
    {
     "data": {
      "text/plain": [
       "(614, 384, 3)"
      ]
     },
     "execution_count": 7,
     "metadata": {},
     "output_type": "execute_result"
    }
   ],
   "source": [
    "#cv2.rotate(pic,rotateCode)ROTATE_90_CLOCKWISE:顺时针90度； ROTATE_180：180度；ROTATE_90_COUNTERCLOCKWISE：逆时针90度\n",
    "pic3_rot=cv2.rotate(pic3,rotateCode=cv2.ROTATE_90_CLOCKWISE)\n",
    "pic3_rot.shape"
   ]
  },
  {
   "cell_type": "code",
   "execution_count": 8,
   "id": "a21421ad",
   "metadata": {},
   "outputs": [],
   "source": [
    "cv2.imshow('pic3_rot',pic3_rot)\n",
    "while cv2.waitKey(0)!=ord('q'):\n",
    "    None\n",
    "cv2.destroyAllWindows()"
   ]
  },
  {
   "cell_type": "markdown",
   "id": "f1a72e18",
   "metadata": {},
   "source": [
    "# 仿射变换"
   ]
  },
  {
   "cell_type": "code",
   "execution_count": null,
   "id": "ce5c346a",
   "metadata": {},
   "outputs": [],
   "source": [
    "'''仿射变换是图像旋转，缩放，平移的总称。具体的做法是通过一个矩阵和和原图片坐标进行计算得到新的坐\n",
    "标，完成变换．'''\n",
    "#cv2.warpAffine(pic,M,dsize,flags,Mode,Value)\n",
    "# M是变换矩阵，通过M矩阵乘pic得出结果,dsize是生成图片的大小，flag是和resize一样的插值\n"
   ]
  },
  {
   "cell_type": "markdown",
   "id": "41f4e202",
   "metadata": {},
   "source": [
    "   图像平移"
   ]
  },
  {
   "cell_type": "code",
   "execution_count": 9,
   "id": "2c702fe9",
   "metadata": {},
   "outputs": [],
   "source": [
    "dx=200\n",
    "dy=100\n",
    "M1=np.float32([[1,0,dx],[0,1,dy]])  #变换矩阵M要float类型的\n",
    "pic3_mod1=cv2.warpAffine(pic3,M1,dsize=(pic3.shape[1]+dx,pic3.shape[0]+dy)) #使平移后的图像能够适应窗口\n",
    "cv2.imshow('pic3_mod1',pic3_mod1)\n",
    "while cv2.waitKey(0)!=ord('q'):\n",
    "    None\n",
    "cv2.destroyAllWindows()"
   ]
  },
  {
   "cell_type": "markdown",
   "id": "d017412d",
   "metadata": {},
   "source": [
    " 获取变换矩阵"
   ]
  },
  {
   "cell_type": "code",
   "execution_count": 2,
   "id": "88f10c81",
   "metadata": {},
   "outputs": [],
   "source": [
    "#在对图片进行旋转等操作时，可能无法直接确定变换矩阵，这时可通过opencv的API获取变换矩阵M\n",
    "'''cv2.getRotationMatrix2D(center,angle,scale) \n",
    "center 旋转中心点\n",
    "angle  逆时针旋转角度\n",
    "scale  缩放比例'''\n",
    "pic3_hei=pic3.shape[0]\n",
    "pic3_wid=pic3.shape[1]\n",
    "M=cv2.getRotationMatrix2D((pic3_wid/2,pic3_hei/2),30,1)\n",
    "pic3_mod2=cv2.warpAffine(pic3,M,(pic3_wid,pic3_hei))"
   ]
  },
  {
   "cell_type": "code",
   "execution_count": 8,
   "id": "2642e950",
   "metadata": {},
   "outputs": [],
   "source": [
    "#cv2.namedWindow('pic3_mod2',cv2.WINDOW_AUTOSIZE)\n",
    "cv2.imshow('pic3_mod2',pic3_mod2)\n",
    "while cv2.waitKey(0)!=ord('q'):\n",
    "    None\n",
    "cv2.destroyAllWindows()\n",
    "#cv2.imwrite('../material/used/pic3_mod2.png',pic3_mod2)"
   ]
  },
  {
   "cell_type": "code",
   "execution_count": 17,
   "id": "0de48fb0",
   "metadata": {},
   "outputs": [],
   "source": [
    "'''cv2.getAffineTransform(src,drc)通过任意三个点变化前后的位置关系来确定变换矩阵\n",
    "src,drc分别指初始的三个点和变换后的对应点'''\n",
    "src=np.float32([[200,126],[200,200],[400,126]])\n",
    "dst=np.float32([[250,140],[200,200],[350,140]])\n",
    "M=cv2.getAffineTransform(src,dst)\n",
    "pic3_mod3=cv2.warpAffine(pic3,M,(pic3_wid,pic3_hei))\n",
    "cv2.imshow('pic3_mod3',pic3_mod3)\n",
    "while cv2.waitKey(0)!=ord('q'):\n",
    "    None\n",
    "cv2.destroyAllWindows()"
   ]
  },
  {
   "cell_type": "markdown",
   "id": "fe15b2aa",
   "metadata": {},
   "source": [
    " 透视变换"
   ]
  },
  {
   "cell_type": "code",
   "execution_count": 5,
   "id": "c6da2cb6",
   "metadata": {},
   "outputs": [
    {
     "name": "stdout",
     "output_type": "stream",
     "text": [
      "point_src 1   (311, 127)\n",
      "point_src 2   (30, 892)\n",
      "point_src 3   (765, 958)\n",
      "point_src 4   (1048, 250)\n",
      "[[311, 127], [30, 892], [765, 958], [1048, 250]]\n",
      "point_dst 1   (23, 39)\n",
      "point_dst 2   (26, 1152)\n",
      "point_dst 3   (1095, 1130)\n",
      "point_dst 4   (1112, 45)\n",
      "[[23, 39], [26, 1152], [1095, 1130], [1112, 45]]\n"
     ]
    }
   ],
   "source": [
    "#相比于简单的旋转平移，透视变换指坐标系上的变换，如近大远小功能等\n",
    "'''cv2.getPerspectiveTransform(src,dst) 获取透视变换的变换矩阵,src,dst为四个点'''\n",
    "'''cv2.warpPerspective(pic,M,dsize) 对图像进行透视变换'''\n",
    "\n",
    "def callback(event,x,y,flag,data):\n",
    "    global i\n",
    "    global po\n",
    "    if (i-5)==4:\n",
    "            return\n",
    "        \n",
    "    if event==cv2.EVENT_LBUTTONDOWN and i<4:    \n",
    "        print('point_src',i+1,' ',(x,y))\n",
    "        po[i]=[x,y]\n",
    "        \n",
    "        if i==3:\n",
    "            print(po)     \n",
    "        i+=1\n",
    "    if event==cv2.EVENT_LBUTTONDOWN and i>=5:\n",
    "        print('point_dst',i-4,' ',(x,y))\n",
    "        po_dst[i-5]=[x,y]\n",
    "        \n",
    "        if (i-5)==3:\n",
    "            print(po_dst)\n",
    "        i+=1\n",
    "    if event==cv2.EVENT_LBUTTONDOWN and i==4:\n",
    "        i+=1\n",
    "        \n",
    "        \n",
    "wid=500\n",
    "hei=600\n",
    "po=[[0,0],[0,0],[0,0],[0,0]]\n",
    "po_dst=[[0,0],[0,0],[0,0],[0,0]]\n",
    "i=0\n",
    "\n",
    "book=cv2.imread('../material/used/book.png')\n",
    "cv2.namedWindow('book',cv2.WINDOW_NORMAL)\n",
    "cv2.resizeWindow('book',(wid,hei))\n",
    "cv2.imshow('book',book)\n",
    "\n",
    "#鼠标获取坐标位置\n",
    "cv2.setMouseCallback('book',callback,0)\n",
    "\n",
    "while cv2.waitKey(0)!=ord('q'):\n",
    "    None\n",
    "cv2.destroyAllWindows()"
   ]
  },
  {
   "cell_type": "code",
   "execution_count": 6,
   "id": "a9dd503b",
   "metadata": {},
   "outputs": [],
   "source": [
    "src=np.float32(po)\n",
    "dst=np.float32(po_dst)\n",
    "\n",
    "#获取变换矩阵\n",
    "M=cv2.getPerspectiveTransform(src,dst)\n",
    "\n",
    "#对图像做透视变换\n",
    "book_M=cv2.warpPerspective(book,M,dsize=(book.shape[1],book.shape[0]))\n",
    "\n",
    "cv2.namedWindow('book_M',cv2.WINDOW_NORMAL)\n",
    "cv2.resizeWindow('book_M',(wid,hei))\n",
    "cv2.imshow('book_M',book_M)\n",
    "\n",
    "while cv2.waitKey(0)!=ord('q'):\n",
    "    None\n",
    "cv2.destroyAllWindows()"
   ]
  },
  {
   "cell_type": "code",
   "execution_count": null,
   "id": "c27fcc65",
   "metadata": {},
   "outputs": [],
   "source": []
  }
 ],
 "metadata": {
  "kernelspec": {
   "display_name": "py_opencv",
   "language": "python",
   "name": "opencv"
  },
  "language_info": {
   "codemirror_mode": {
    "name": "ipython",
    "version": 3
   },
   "file_extension": ".py",
   "mimetype": "text/x-python",
   "name": "python",
   "nbconvert_exporter": "python",
   "pygments_lexer": "ipython3",
   "version": "3.9.13"
  }
 },
 "nbformat": 4,
 "nbformat_minor": 5
}
